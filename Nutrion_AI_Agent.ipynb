{
  "cells": [
    {
      "cell_type": "markdown",
      "metadata": {
        "id": "view-in-github",
        "colab_type": "text"
      },
      "source": [
        "<a href=\"https://colab.research.google.com/github/SutapaSusovita/Nutrition_Agent/blob/main/Nutrion_AI_Agent.ipynb\" target=\"_parent\"><img src=\"https://colab.research.google.com/assets/colab-badge.svg\" alt=\"Open In Colab\"/></a>"
      ]
    },
    {
      "metadata": {
        "id": "wGB8Ds0GtdsZ"
      },
      "cell_type": "markdown",
      "source": [
        "![image](https://raw.githubusercontent.com/IBM/watson-machine-learning-samples/master/cloud/notebooks/headers/watsonx-Prompt_Lab-Notebook.png)\n",
        "# Agents Lab Notebook v1.0.0\n",
        "This notebook contains steps and code to demonstrate the use of agents\n",
        "configured in Agent Lab in watsonx.ai. It introduces Python API commands\n",
        "for authentication using API key and invoking a LangGraph agent with a watsonx chat model.\n",
        "\n",
        "**Note:** Notebook code generated using Agent Lab will execute successfully.\n",
        "If code is modified or reordered, there is no guarantee it will successfully execute.\n",
        "For details, see: <a href=\"/docs/content/wsj/analyze-data/fm-prompt-save.html?context=wx\" target=\"_blank\">Saving your work in Agent Lab as a notebook.</a>\n",
        "\n",
        "Some familiarity with Python is helpful. This notebook uses Python 3.11.\n",
        "\n",
        "## Notebook goals\n",
        "The learning goals of this notebook are:\n",
        "\n",
        "* Defining a Python function for obtaining credentials from the IBM Cloud personal API key\n",
        "* Creating an agent with a set of tools using a specified model and parameters\n",
        "* Invoking the agent to generate a response\n",
        "\n",
        "# Setup"
      ]
    },
    {
      "cell_type": "code",
      "source": [
        "!pip install ibm-watsonx-ai langchain-ibm langgraph\n"
      ],
      "metadata": {
        "colab": {
          "base_uri": "https://localhost:8080/"
        },
        "id": "i4ecCP-4uHiC",
        "outputId": "5c504f46-9543-4e99-d598-0a2e2c60df45"
      },
      "execution_count": 1,
      "outputs": [
        {
          "output_type": "stream",
          "name": "stdout",
          "text": [
            "Requirement already satisfied: ibm-watsonx-ai in /usr/local/lib/python3.11/dist-packages (1.3.32)\n",
            "Requirement already satisfied: langchain-ibm in /usr/local/lib/python3.11/dist-packages (0.3.15)\n",
            "Requirement already satisfied: langgraph in /usr/local/lib/python3.11/dist-packages (0.6.4)\n",
            "Requirement already satisfied: requests in /usr/local/lib/python3.11/dist-packages (from ibm-watsonx-ai) (2.32.4)\n",
            "Requirement already satisfied: httpx<0.29,>=0.27 in /usr/local/lib/python3.11/dist-packages (from ibm-watsonx-ai) (0.28.1)\n",
            "Requirement already satisfied: urllib3 in /usr/local/lib/python3.11/dist-packages (from ibm-watsonx-ai) (2.5.0)\n",
            "Requirement already satisfied: pandas<2.3.0,>=0.24.2 in /usr/local/lib/python3.11/dist-packages (from ibm-watsonx-ai) (2.2.2)\n",
            "Requirement already satisfied: certifi in /usr/local/lib/python3.11/dist-packages (from ibm-watsonx-ai) (2025.8.3)\n",
            "Requirement already satisfied: lomond in /usr/local/lib/python3.11/dist-packages (from ibm-watsonx-ai) (0.3.3)\n",
            "Requirement already satisfied: tabulate in /usr/local/lib/python3.11/dist-packages (from ibm-watsonx-ai) (0.9.0)\n",
            "Requirement already satisfied: packaging in /usr/local/lib/python3.11/dist-packages (from ibm-watsonx-ai) (25.0)\n",
            "Requirement already satisfied: ibm-cos-sdk<2.15.0,>=2.12.0 in /usr/local/lib/python3.11/dist-packages (from ibm-watsonx-ai) (2.14.3)\n",
            "Requirement already satisfied: cachetools in /usr/local/lib/python3.11/dist-packages (from ibm-watsonx-ai) (5.5.2)\n",
            "Requirement already satisfied: langchain-core<0.4.0,>=0.3.39 in /usr/local/lib/python3.11/dist-packages (from langchain-ibm) (0.3.72)\n",
            "Requirement already satisfied: langgraph-checkpoint<3.0.0,>=2.1.0 in /usr/local/lib/python3.11/dist-packages (from langgraph) (2.1.1)\n",
            "Requirement already satisfied: langgraph-prebuilt<0.7.0,>=0.6.0 in /usr/local/lib/python3.11/dist-packages (from langgraph) (0.6.4)\n",
            "Requirement already satisfied: langgraph-sdk<0.3.0,>=0.2.0 in /usr/local/lib/python3.11/dist-packages (from langgraph) (0.2.0)\n",
            "Requirement already satisfied: pydantic>=2.7.4 in /usr/local/lib/python3.11/dist-packages (from langgraph) (2.11.7)\n",
            "Requirement already satisfied: xxhash>=3.5.0 in /usr/local/lib/python3.11/dist-packages (from langgraph) (3.5.0)\n",
            "Requirement already satisfied: anyio in /usr/local/lib/python3.11/dist-packages (from httpx<0.29,>=0.27->ibm-watsonx-ai) (4.10.0)\n",
            "Requirement already satisfied: httpcore==1.* in /usr/local/lib/python3.11/dist-packages (from httpx<0.29,>=0.27->ibm-watsonx-ai) (1.0.9)\n",
            "Requirement already satisfied: idna in /usr/local/lib/python3.11/dist-packages (from httpx<0.29,>=0.27->ibm-watsonx-ai) (3.10)\n",
            "Requirement already satisfied: h11>=0.16 in /usr/local/lib/python3.11/dist-packages (from httpcore==1.*->httpx<0.29,>=0.27->ibm-watsonx-ai) (0.16.0)\n",
            "Requirement already satisfied: ibm-cos-sdk-core==2.14.3 in /usr/local/lib/python3.11/dist-packages (from ibm-cos-sdk<2.15.0,>=2.12.0->ibm-watsonx-ai) (2.14.3)\n",
            "Requirement already satisfied: ibm-cos-sdk-s3transfer==2.14.3 in /usr/local/lib/python3.11/dist-packages (from ibm-cos-sdk<2.15.0,>=2.12.0->ibm-watsonx-ai) (2.14.3)\n",
            "Requirement already satisfied: jmespath<=1.0.1,>=0.10.0 in /usr/local/lib/python3.11/dist-packages (from ibm-cos-sdk<2.15.0,>=2.12.0->ibm-watsonx-ai) (1.0.1)\n",
            "Requirement already satisfied: python-dateutil<3.0.0,>=2.9.0 in /usr/local/lib/python3.11/dist-packages (from ibm-cos-sdk-core==2.14.3->ibm-cos-sdk<2.15.0,>=2.12.0->ibm-watsonx-ai) (2.9.0.post0)\n",
            "Requirement already satisfied: langsmith>=0.3.45 in /usr/local/lib/python3.11/dist-packages (from langchain-core<0.4.0,>=0.3.39->langchain-ibm) (0.4.12)\n",
            "Requirement already satisfied: tenacity!=8.4.0,<10.0.0,>=8.1.0 in /usr/local/lib/python3.11/dist-packages (from langchain-core<0.4.0,>=0.3.39->langchain-ibm) (8.5.0)\n",
            "Requirement already satisfied: jsonpatch<2.0,>=1.33 in /usr/local/lib/python3.11/dist-packages (from langchain-core<0.4.0,>=0.3.39->langchain-ibm) (1.33)\n",
            "Requirement already satisfied: PyYAML>=5.3 in /usr/local/lib/python3.11/dist-packages (from langchain-core<0.4.0,>=0.3.39->langchain-ibm) (6.0.2)\n",
            "Requirement already satisfied: typing-extensions>=4.7 in /usr/local/lib/python3.11/dist-packages (from langchain-core<0.4.0,>=0.3.39->langchain-ibm) (4.14.1)\n",
            "Requirement already satisfied: ormsgpack>=1.10.0 in /usr/local/lib/python3.11/dist-packages (from langgraph-checkpoint<3.0.0,>=2.1.0->langgraph) (1.10.0)\n",
            "Requirement already satisfied: orjson>=3.10.1 in /usr/local/lib/python3.11/dist-packages (from langgraph-sdk<0.3.0,>=0.2.0->langgraph) (3.11.1)\n",
            "Requirement already satisfied: numpy>=1.23.2 in /usr/local/lib/python3.11/dist-packages (from pandas<2.3.0,>=0.24.2->ibm-watsonx-ai) (2.0.2)\n",
            "Requirement already satisfied: pytz>=2020.1 in /usr/local/lib/python3.11/dist-packages (from pandas<2.3.0,>=0.24.2->ibm-watsonx-ai) (2025.2)\n",
            "Requirement already satisfied: tzdata>=2022.7 in /usr/local/lib/python3.11/dist-packages (from pandas<2.3.0,>=0.24.2->ibm-watsonx-ai) (2025.2)\n",
            "Requirement already satisfied: annotated-types>=0.6.0 in /usr/local/lib/python3.11/dist-packages (from pydantic>=2.7.4->langgraph) (0.7.0)\n",
            "Requirement already satisfied: pydantic-core==2.33.2 in /usr/local/lib/python3.11/dist-packages (from pydantic>=2.7.4->langgraph) (2.33.2)\n",
            "Requirement already satisfied: typing-inspection>=0.4.0 in /usr/local/lib/python3.11/dist-packages (from pydantic>=2.7.4->langgraph) (0.4.1)\n",
            "Requirement already satisfied: charset_normalizer<4,>=2 in /usr/local/lib/python3.11/dist-packages (from requests->ibm-watsonx-ai) (3.4.2)\n",
            "Requirement already satisfied: six>=1.10.0 in /usr/local/lib/python3.11/dist-packages (from lomond->ibm-watsonx-ai) (1.17.0)\n",
            "Requirement already satisfied: jsonpointer>=1.9 in /usr/local/lib/python3.11/dist-packages (from jsonpatch<2.0,>=1.33->langchain-core<0.4.0,>=0.3.39->langchain-ibm) (3.0.0)\n",
            "Requirement already satisfied: requests-toolbelt>=1.0.0 in /usr/local/lib/python3.11/dist-packages (from langsmith>=0.3.45->langchain-core<0.4.0,>=0.3.39->langchain-ibm) (1.0.0)\n",
            "Requirement already satisfied: zstandard>=0.23.0 in /usr/local/lib/python3.11/dist-packages (from langsmith>=0.3.45->langchain-core<0.4.0,>=0.3.39->langchain-ibm) (0.23.0)\n",
            "Requirement already satisfied: sniffio>=1.1 in /usr/local/lib/python3.11/dist-packages (from anyio->httpx<0.29,>=0.27->ibm-watsonx-ai) (1.3.1)\n"
          ]
        }
      ]
    },
    {
      "metadata": {
        "id": "_Bddc_gztdsc"
      },
      "cell_type": "code",
      "source": [
        "# import dependencies\n",
        "from langchain_ibm import ChatWatsonx\n",
        "from ibm_watsonx_ai import APIClient\n",
        "from langchain_core.messages import AIMessage, HumanMessage\n",
        "from langgraph.checkpoint.memory import MemorySaver\n",
        "from langgraph.prebuilt import create_react_agent\n",
        "from ibm_watsonx_ai.foundation_models.utils import Tool, Toolkit\n",
        "import json\n",
        "import requests"
      ],
      "execution_count": 2,
      "outputs": []
    },
    {
      "metadata": {
        "id": "ltjqY2-wtdsd"
      },
      "cell_type": "markdown",
      "source": [
        "## watsonx API connection\n",
        "This cell defines the credentials required to work with watsonx API for Foundation\n",
        "Model inferencing.\n",
        "\n",
        "**Action:** Provide the IBM Cloud personal API key. For details, see\n",
        "<a href=\"https://cloud.ibm.com/docs/account?topic=account-userapikey&interface=ui\" target=\"_blank\">documentation</a>.\n"
      ]
    },
    {
      "cell_type": "code",
      "source": [
        "import os\n",
        "import getpass\n",
        "\n",
        "def get_credentials():\n",
        "    return {\n",
        "        \"url\": \"https://us-south.ml.cloud.ibm.com\",\n",
        "        \"apikey\": getpass.getpass(\"Please enter your api key (hit enter): \")\n",
        "    }\n",
        "\n",
        "def get_bearer_token():\n",
        "    url = \"https://iam.cloud.ibm.com/identity/token\"\n",
        "    headers = {\"Content-Type\": \"application/x-www-form-urlencoded\"}\n",
        "    data = f\"grant_type=urn:ibm:params:oauth:grant-type:apikey&apikey={credentials['apikey']}\"\n",
        "    response = requests.post(url, headers=headers, data=data)\n",
        "    return response.json().get(\"access_token\")\n",
        "\n",
        "credentials = get_credentials()"
      ],
      "metadata": {
        "colab": {
          "base_uri": "https://localhost:8080/"
        },
        "id": "dTtzeaJWC8uS",
        "outputId": "506e1383-3902-465a-e033-39c8f1824f22"
      },
      "execution_count": 3,
      "outputs": [
        {
          "name": "stdout",
          "output_type": "stream",
          "text": [
            "Please enter your api key (hit enter): ··········\n"
          ]
        }
      ]
    },
    {
      "metadata": {
        "id": "PoeJOMLVtdse"
      },
      "cell_type": "markdown",
      "source": [
        "# Using the agent\n",
        "These cells demonstrate how to create and invoke the agent\n",
        "with the selected models, tools, and parameters.\n",
        "\n",
        "## Defining the model id\n",
        "We need to specify model id that will be used for inferencing:"
      ]
    },
    {
      "metadata": {
        "id": "x0dwh-N9tdse"
      },
      "cell_type": "code",
      "source": [
        "model_id = \"ibm/granite-3-3-8b-instruct\""
      ],
      "execution_count": 4,
      "outputs": []
    },
    {
      "metadata": {
        "id": "uLf3h_F1tdsf"
      },
      "cell_type": "markdown",
      "source": [
        "## Defining the model parameters\n",
        "We need to provide a set of model parameters that will influence the\n",
        "result:"
      ]
    },
    {
      "metadata": {
        "id": "LJQStVOatdsf"
      },
      "cell_type": "code",
      "source": [
        "parameters = {\n",
        "    \"frequency_penalty\": 0,\n",
        "    \"max_tokens\": 2000,\n",
        "    \"presence_penalty\": 0,\n",
        "    \"temperature\": 0,\n",
        "    \"top_p\": 1\n",
        "}"
      ],
      "execution_count": 5,
      "outputs": []
    },
    {
      "metadata": {
        "id": "hgR88KWYtdsf"
      },
      "cell_type": "markdown",
      "source": [
        "## Watsonx API connection and Defining the project id or space id\n",
        "This cell defines the credentials required to work with watsonx API for Foundation Model inferencing.\n",
        "Action: Provide the IBM Cloud personal API key.\n",
        "The API requires project id or space id that provides the context for the call. We will obtain\n",
        "the id from the project or space in which this notebook runs:"
      ]
    },
    {
      "metadata": {
        "id": "EEpbVVORtdsf"
      },
      "cell_type": "code",
      "source": [
        "project_id = \"46f752f6-63af-49e3-a01c-b579cde1e0e1\"\n",
        "space_id = os.getenv(\"SPACE_ID\")"
      ],
      "execution_count": 6,
      "outputs": []
    },
    {
      "metadata": {
        "id": "Z7ngkfyztdsg"
      },
      "cell_type": "markdown",
      "source": [
        "## Creating the agent\n",
        "We need to create the agent using the properties we defined so far:"
      ]
    },
    {
      "metadata": {
        "id": "iJDrC8zCtdsg"
      },
      "cell_type": "code",
      "source": [
        "# ✅ Pass project_id explicitly to APIClient\n",
        "client = APIClient(credentials=credentials, project_id=project_id, space_id=space_id)\n",
        "\n",
        "# Create the chat model\n",
        "def create_chat_model():\n",
        "    chat_model = ChatWatsonx(\n",
        "        model_id=model_id,\n",
        "        url=credentials[\"url\"],\n",
        "        space_id=space_id,\n",
        "        project_id=project_id,\n",
        "        params=parameters,\n",
        "        watsonx_client=client,\n",
        "    )\n",
        "    return chat_model"
      ],
      "execution_count": 7,
      "outputs": []
    },
    {
      "metadata": {
        "id": "H_l_7Qj3tdsg"
      },
      "cell_type": "code",
      "source": [
        "from ibm_watsonx_ai.deployments import RuntimeContext\n",
        "\n",
        "context = RuntimeContext(api_client=client)\n",
        "\n",
        "\n",
        "vector_index_id = \"76e119fd-5004-430c-a3ee-8d17270ca3d1\"\n",
        "\n",
        "\n",
        "def create_rag_tool(vector_index_id, api_client):\n",
        "    config = {\n",
        "        \"vectorIndexId\": vector_index_id,\n",
        "        \"projectId\": project_id\n",
        "    }\n",
        "\n",
        "    tool_description = \"Search information in documents to provide context to a user query. Useful when asked to ground the answer in specific knowledge about Farming\"\n",
        "\n",
        "    return create_utility_agent_tool(\"RAGQuery\", config, api_client, tool_description=tool_description)\n",
        "\n",
        "\n",
        "\n",
        "def create_utility_agent_tool(tool_name, params, api_client, **kwargs):\n",
        "    from langchain_core.tools import StructuredTool\n",
        "    utility_agent_tool = Toolkit(\n",
        "        api_client=api_client\n",
        "    ).get_tool(tool_name)\n",
        "\n",
        "    tool_description = utility_agent_tool.get(\"description\")\n",
        "\n",
        "    if (kwargs.get(\"tool_description\")):\n",
        "        tool_description = kwargs.get(\"tool_description\")\n",
        "    elif (utility_agent_tool.get(\"agent_description\")):\n",
        "        tool_description = utility_agent_tool.get(\"agent_description\")\n",
        "\n",
        "    tool_schema = utility_agent_tool.get(\"input_schema\")\n",
        "    if (tool_schema == None):\n",
        "        tool_schema = {\n",
        "            \"type\": \"object\",\n",
        "            \"additionalProperties\": False,\n",
        "            \"$schema\": \"http://json-schema.org/draft-07/schema#\",\n",
        "            \"properties\": {\n",
        "                \"input\": {\n",
        "                    \"description\": \"input for the tool\",\n",
        "                    \"type\": \"string\"\n",
        "                }\n",
        "            }\n",
        "        }\n",
        "\n",
        "    def run_tool(**tool_input):\n",
        "        query = tool_input\n",
        "        if (utility_agent_tool.get(\"input_schema\") == None):\n",
        "            query = tool_input.get(\"input\")\n",
        "\n",
        "        results = utility_agent_tool.run(\n",
        "            input=query,\n",
        "            config=params\n",
        "        )\n",
        "\n",
        "        return results.get(\"output\")\n",
        "\n",
        "    return StructuredTool(\n",
        "        name=tool_name,\n",
        "        description = tool_description,\n",
        "        func=run_tool,\n",
        "        args_schema=tool_schema\n",
        "    )\n",
        "\n",
        "\n",
        "def create_custom_tool(tool_name, tool_description, tool_code, tool_schema, tool_params):\n",
        "    from langchain_core.tools import StructuredTool\n",
        "    import ast\n",
        "\n",
        "    def call_tool(**kwargs):\n",
        "        tree = ast.parse(tool_code, mode=\"exec\")\n",
        "        custom_tool_functions = [ x for x in tree.body if isinstance(x, ast.FunctionDef) ]\n",
        "        function_name = custom_tool_functions[0].name\n",
        "        compiled_code = compile(tree, 'custom_tool', 'exec')\n",
        "        namespace = tool_params if tool_params else {}\n",
        "        exec(compiled_code, namespace)\n",
        "        return namespace[function_name](**kwargs)\n",
        "\n",
        "    tool = StructuredTool(\n",
        "        name=tool_name,\n",
        "        description = tool_description,\n",
        "        func=call_tool,\n",
        "        args_schema=tool_schema\n",
        "    )\n",
        "    return tool\n",
        "\n",
        "def create_custom_tools():\n",
        "    custom_tools = []\n",
        "\n",
        "def create_tools(context):\n",
        "    tools = []\n",
        "    tools.append(create_rag_tool(vector_index_id, client))\n",
        "\n",
        "    config = {\n",
        "        \"maxResults\": 10\n",
        "    }\n",
        "    tools.append(create_utility_agent_tool(\"GoogleSearch\", config, client))\n",
        "\n",
        "    # Commenting out DuckDuckGo tool to avoid DDG rate limits\n",
        "    # config = {}\n",
        "    # tools.append(create_utility_agent_tool(\"DuckDuckGo\", config, client))\n",
        "\n",
        "    config = {\n",
        "        \"maxResults\": 5\n",
        "    }\n",
        "    tools.append(create_utility_agent_tool(\"Wikipedia\", config, client))\n",
        "\n",
        "    config = {}\n",
        "    tools.append(create_utility_agent_tool(\"Weather\", config, client))\n",
        "\n",
        "    return tools\n"
      ],
      "execution_count": 11,
      "outputs": []
    },
    {
      "cell_type": "code",
      "source": [
        "from langchain.prompts import ChatPromptTemplate\n",
        "from langgraph.prebuilt import create_react_agent\n",
        "from langgraph.checkpoint.memory import MemorySaver\n",
        "\n",
        "def create_agent(context):\n",
        "    chat_model = create_chat_model()\n",
        "    tools = create_tools(context)\n",
        "    memory = MemorySaver()\n",
        "\n",
        "    instructions = \"\"\"You are a helpful nutrition AI agent.\n",
        "Ask the user for their age, gender, weight, height, dietary preferences (e.g., vegetarian, keto), allergies, medical conditions (e.g., diabetes, PCOS), cultural preferences, and fitness goals (e.g., weight loss, muscle gain). Store the responses securely and use them to personalize future suggestions.\n",
        "Generate a daily or weekly meal plan that aligns with the user's profile: dietary preferences, medical conditions, and fitness goals. Ensure nutritional balance (macros + micronutrients) and cultural relevance. Include breakfast, lunch, dinner, and optional snacks with calorie counts and prep details.\n",
        "When a user inputs a food they dislike, are allergic to, or want a healthier version of, suggest smart alternatives. For example, if a user inputs \"white rice\", you might suggest \"quinoa\" or \"cauliflower rice\" and explain why the alternative is healthier.\n",
        "Whenever a recommendation is made, provide a short, clear explanation such as:\n",
        "- \"This food is high in fiber, which supports digestion.\"\n",
        "- \"This alternative has a lower glycemic index, which is better for diabetes.\" Offer contextual, science-backed reasons to help the user make informed decisions.\n",
        "If a user uploads a food photo or grocery label, extract the food item name using image recognition. Cross-reference the item with a nutrition database to determine if it's healthy based on the user's profile. Respond with nutritional info and suggestions if needed.\n",
        "If a user says they disliked a meal, were still hungry, or experienced a symptom, adjust future recommendations accordingly. Ask follow-up questions like: \"Would you prefer a lighter/heavier meal next time?\" or \"Should I avoid this ingredient in future plans?\"\n",
        "\"\"\"\n",
        "\n",
        "\n",
        "    chat_model = chat_model.bind(system=instructions)\n",
        "\n",
        "    agent = create_react_agent(\n",
        "        chat_model,\n",
        "        tools=tools,\n",
        "        checkpointer=memory\n",
        "    )\n",
        "    return agent\n"
      ],
      "metadata": {
        "id": "nG0kELIG05rY"
      },
      "execution_count": 12,
      "outputs": []
    },
    {
      "metadata": {
        "id": "pKCH5oFrtdsh"
      },
      "cell_type": "markdown",
      "source": [
        "## Invoking the agent\n",
        "Let us now use the created agent, pair it with the input, and generate the response to your question:\n"
      ]
    },
    {
      "cell_type": "code",
      "source": [
        "from langchain.schema import HumanMessage, AIMessage\n",
        "\n",
        "agent = create_agent(context)\n",
        "\n",
        "def convert_messages(messages):\n",
        "    converted_messages = []\n",
        "    for message in messages:\n",
        "        if message[\"role\"] == \"user\":\n",
        "            converted_messages.append(HumanMessage(content=message[\"content\"]))\n",
        "        elif message[\"role\"] == \"assistant\":\n",
        "            converted_messages.append(AIMessage(content=message[\"content\"]))\n",
        "    return converted_messages\n",
        "\n",
        "question = input(\"Question: \")\n",
        "\n",
        "messages = [{\n",
        "    \"role\": \"user\",\n",
        "    \"content\": question\n",
        "}]\n",
        "\n",
        "generated_response = agent.invoke(\n",
        "    {\"messages\": convert_messages(messages)},\n",
        "    config={\"configurable\": {\"thread_id\": \"42\"}}\n",
        ")\n",
        "\n",
        "print_full_response = False\n",
        "\n",
        "if print_full_response:\n",
        "    print(generated_response)\n",
        "else:\n",
        "    if isinstance(generated_response, dict) and \"messages\" in generated_response:\n",
        "        result = generated_response[\"messages\"][-1].content\n",
        "    else:\n",
        "        result = str(generated_response)\n",
        "    print(f\"Agent: {result}\")\n"
      ],
      "metadata": {
        "colab": {
          "base_uri": "https://localhost:8080/"
        },
        "id": "4z7K8EnM09Y5",
        "outputId": "cd7e02de-74ac-4956-e703-2243c13c8a29"
      },
      "execution_count": 13,
      "outputs": [
        {
          "name": "stdout",
          "output_type": "stream",
          "text": [
            "Question: Hi, I want you to create a weekly vegetarian meal plan for me. I’m 28 years old, female, 60 kg, 165 cm tall. I have no allergies, but I have mild PCOS. I prefer Indian cuisine and my goal is weight loss.\n"
          ]
        },
        {
          "output_type": "stream",
          "name": "stderr",
          "text": [
            "WARNING:ibm_watsonx_ai.wml_client_error:Missing required properties of the tool's input schema. The following properties are required: ['q'].\n"
          ]
        },
        {
          "output_type": "stream",
          "name": "stdout",
          "text": [
            "Agent: To create a suitable meal plan for you, I'll need to consider your dietary preferences, health condition, and weight loss goals. Given that you're a 28-year-old female with mild PCOS, prefer Indian cuisine, and aim for weight loss, here's a simple weekly vegetarian meal plan:\n",
            "\n",
            "**Day 1:**\n",
            "- Breakfast: Moong dal chilla (mung bean pancakes) with tomato chutney.\n",
            "- Lunch: Quinoa salad with mixed vegetables (carrots, bell peppers, cucumbers) and lemon dressing.\n",
            "- Dinner: Palak paneer (spinach and cottage cheese curry) with whole wheat roti.\n",
            "\n",
            "**Day 2:**\n",
            "- Breakfast: Oats upma with peas and carrots.\n",
            "- Lunch: Chickpea curry (chana masala) with brown rice.\n",
            "- Dinner: Mixed vegetable curry with besan (chickpea flour) gravy, served with roti.\n",
            "\n",
            "**Day 3:**\n",
            "- Breakfast: Smoothie with spinach, banana, almond milk, and chia seeds.\n",
            "- Lunch: Dal tadka (lentil soup) with whole wheat naan.\n",
            "- Dinner: Baingan bharta (roasted eggplant mash) with quinoa.\n",
            "\n",
            "**Day 4:**\n",
            "- Breakfast: Poha (flattened rice) with peanuts and vegetables.\n",
            "- Lunch: Rajma (kidney beans curry) with whole wheat roti.\n",
            "- Dinner: Aloo gobi (potato and cauliflower curry) with brown rice.\n",
            "\n",
            "**Day 5:**\n",
            "- Breakfast: Idli (fermented rice and lentil cakes) with sambar (lentil soup).\n",
            "- Lunch: Paneer butter masala with mixed vegetable curry and naan.\n",
            "- Dinner: Vegetable dhokla (steamed savory cake) with green chutney.\n",
            "\n",
            "**Day 6:**\n",
            "- Breakfast: Upma with mixed vegetables.\n",
            "- Lunch: Chole (chickpeas curry) with whole wheat roti.\n",
            "- Dinner: Methi (fenugreek) theplis (flatbreads) with dals (lentil soup).\n",
            "\n",
            "**Day 7:**\n",
            "- Breakfast: Smoothie with kale, apple, almond milk, and flaxseeds.\n",
            "- Lunch: Dal makhani (creamy lentil soup) with brown rice.\n",
            "- Dinner: Aloo jeera (cumin potatoes) with mixed vegetable curry and roti.\n",
            "\n",
            "Remember to drink plenty of water throughout the day and adjust portion sizes according to your calorie needs for weight loss. This plan is high in fiber, protein, and low in fat, which can help manage PCOS symptoms and support weight loss.\n",
            "\n",
            "Please consult with a dietitian or nutritionist for a more personalized meal plan. \n",
            "\n",
            "For additional information on how specific foods can help manage PCOS, you might want to look into recent research or articles on the topic. I can help you find some if you'd like.\n",
            "\n",
            "**Note:** I am an AI and not a certified nutritionist. This meal plan is a general suggestion based on your preferences and health condition. Always consult with a healthcare professional for personalized advice.\n"
          ]
        }
      ]
    },
    {
      "metadata": {
        "id": "NZA_nbZ5tdsi"
      },
      "cell_type": "markdown",
      "source": [
        "# Next steps\n",
        "You successfully completed this notebook! You learned how to use\n",
        "watsonx.ai inferencing SDK to generate response from the foundation model\n",
        "based on the provided input, model id and model parameters. Check out the\n",
        "official watsonx.ai site for more samples, tutorials, documentation, how-tos, and blog posts.\n",
        "\n",
        "<a id=\"copyrights\"></a>\n",
        "### Copyrights\n",
        "\n",
        "Licensed Materials - Copyright © 2024 IBM. This notebook and its source code are released under the terms of the ILAN License.\n",
        "Use, duplication disclosure restricted by GSA ADP Schedule Contract with IBM Corp.\n",
        "\n",
        "**Note:** The auto-generated notebooks are subject to the International License Agreement for Non-Warranted Programs (or equivalent) and License Information document for watsonx.ai Auto-generated Notebook (License Terms), such agreements located in the link below. Specifically, the Source Components and Sample Materials clause included in the License Information document for watsonx.ai Studio Auto-generated Notebook applies to the auto-generated notebooks.  \n",
        "\n",
        "By downloading, copying, accessing, or otherwise using the materials, you agree to the <a href=\"https://www14.software.ibm.com/cgi-bin/weblap/lap.pl?li_formnum=L-AMCU-BYC7LF\" target=\"_blank\">License Terms</a>  "
      ]
    }
  ],
  "metadata": {
    "kernelspec": {
      "name": "python3",
      "display_name": "Python 3.10",
      "language": "python"
    },
    "colab": {
      "provenance": [],
      "include_colab_link": true
    }
  },
  "nbformat": 4,
  "nbformat_minor": 0
}